{
  "nbformat": 4,
  "nbformat_minor": 0,
  "metadata": {
    "colab": {
      "provenance": [],
      "authorship_tag": "ABX9TyO7IUd5aekZpClE2ljq4CAh",
      "include_colab_link": true
    },
    "kernelspec": {
      "name": "python3",
      "display_name": "Python 3"
    },
    "language_info": {
      "name": "python"
    }
  },
  "cells": [
    {
      "cell_type": "markdown",
      "metadata": {
        "id": "view-in-github",
        "colab_type": "text"
      },
      "source": [
        "<a href=\"https://colab.research.google.com/github/BATTI-CHANDAN-SINGH/Application-Of-Data-Mining/blob/main/Lab-08.ipynb\" target=\"_parent\"><img src=\"https://colab.research.google.com/assets/colab-badge.svg\" alt=\"Open In Colab\"/></a>"
      ]
    },
    {
      "cell_type": "code",
      "execution_count": null,
      "metadata": {
        "id": "KqHrNjHksQUs"
      },
      "outputs": [],
      "source": [
        "# Import required libraries\n",
        "import pandas as pd\n",
        "from sklearn.model_selection import train_test_split\n",
        "from sklearn.tree import DecisionTreeClassifier, plot_tree\n",
        "from sklearn.metrics import accuracy_score\n",
        "import matplotlib.pyplot as plt\n",
        "\n",
        "# Step 1: Load Titanic data\n",
        "data = pd.read_csv('/content/titanic.csv')\n",
        "\n",
        "# Step 2: Preprocess data\n",
        "data = data[['Survived', 'Pclass', 'Sex', 'Age', 'SibSp', 'Parch', 'Fare']]\n",
        "data.dropna(inplace=True)\n",
        "\n",
        "# Convert categorical 'Sex' column to numeric\n",
        "data['Sex'] = data['Sex'].map({'male': 0, 'female': 1})\n",
        "\n",
        "# Step 3: Split into features and target\n",
        "X = data.drop('Survived', axis=1)\n",
        "y = data['Survived']\n",
        "\n",
        "# Step 4: Train-test split\n",
        "X_train, X_test, y_train, y_test = train_test_split(X, y, test_size=0.2, random_state=42)\n",
        "\n",
        "# Step 5: Train Decision Tree\n",
        "clf = DecisionTreeClassifier(max_depth=4, random_state=42)\n",
        "clf.fit(X_train, y_train)\n",
        "\n",
        "# Step 6: Evaluate\n",
        "y_pred = clf.predict(X_test)\n",
        "accuracy = accuracy_score(y_test, y_pred)\n",
        "print(\"Accuracy:\", accuracy)\n",
        "\n",
        "# Step 7: Visualize Decision Tree\n",
        "plt.figure(figsize=(20,10))\n",
        "plot_tree(clf, feature_names=X.columns, class_names=['Not Survived', 'Survived'], filled=True)\n",
        "plt.show()"
      ]
    }
  ]
}